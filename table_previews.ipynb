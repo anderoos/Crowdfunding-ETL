{
 "cells": [
  {
   "cell_type": "markdown",
   "source": [
    "# Table Previews\n",
    "\n",
    "This file was created to get a sense of data integrity.\n"
   ],
   "metadata": {
    "collapsed": false
   },
   "id": "58bd0e184dcd32d6"
  },
  {
   "cell_type": "code",
   "execution_count": 1,
   "outputs": [],
   "source": [
    "import pandas as pd"
   ],
   "metadata": {
    "collapsed": false,
    "ExecuteTime": {
     "end_time": "2023-11-10T21:49:58.906512Z",
     "start_time": "2023-11-10T21:49:58.668435Z"
    }
   },
   "id": "6d865f446d3f939e"
  },
  {
   "cell_type": "code",
   "execution_count": 2,
   "outputs": [
    {
     "name": "stdout",
     "output_type": "stream",
     "text": [
      "<class 'pandas.core.frame.DataFrame'>\n",
      "RangeIndex: 1000 entries, 0 to 999\n",
      "Data columns (total 4 columns):\n",
      " #   Column      Non-Null Count  Dtype \n",
      "---  ------      --------------  ----- \n",
      " 0   contact_id  1000 non-null   int64 \n",
      " 1   first_name  1000 non-null   object\n",
      " 2   last_name   1000 non-null   object\n",
      " 3   email       1000 non-null   object\n",
      "dtypes: int64(1), object(3)\n",
      "memory usage: 31.4+ KB\n"
     ]
    }
   ],
   "source": [
    "contacts_df = pd.read_csv('Resources/contacts.csv')\n",
    "contacts_df.info()"
   ],
   "metadata": {
    "collapsed": false,
    "ExecuteTime": {
     "end_time": "2023-11-10T21:49:58.920129Z",
     "start_time": "2023-11-10T21:49:58.907032Z"
    }
   },
   "id": "85a3fefc375c443c"
  },
  {
   "cell_type": "code",
   "execution_count": 3,
   "outputs": [
    {
     "name": "stdout",
     "output_type": "stream",
     "text": [
      "<class 'pandas.core.frame.DataFrame'>\n",
      "RangeIndex: 1000 entries, 0 to 999\n",
      "Data columns (total 14 columns):\n",
      " #   Column          Non-Null Count  Dtype  \n",
      "---  ------          --------------  -----  \n",
      " 0   cf_id           1000 non-null   int64  \n",
      " 1   contact_id      1000 non-null   int64  \n",
      " 2   company_name    1000 non-null   object \n",
      " 3   description     1000 non-null   object \n",
      " 4   goal            1000 non-null   float64\n",
      " 5   pledged         1000 non-null   float64\n",
      " 6   outcome         1000 non-null   object \n",
      " 7   backers_count   1000 non-null   int64  \n",
      " 8   country         1000 non-null   object \n",
      " 9   currency        1000 non-null   object \n",
      " 10  launched_date   1000 non-null   object \n",
      " 11  end_date        1000 non-null   object \n",
      " 12  category_id     1000 non-null   object \n",
      " 13  subcategory_id  1000 non-null   object \n",
      "dtypes: float64(2), int64(3), object(9)\n",
      "memory usage: 109.5+ KB\n"
     ]
    }
   ],
   "source": [
    "campaign_df = pd.read_csv('Resources/campaign.csv')\n",
    "campaign_df.info()"
   ],
   "metadata": {
    "collapsed": false,
    "ExecuteTime": {
     "end_time": "2023-11-10T21:49:58.932241Z",
     "start_time": "2023-11-10T21:49:58.915547Z"
    }
   },
   "id": "d954395d955489c7"
  },
  {
   "cell_type": "code",
   "execution_count": 4,
   "outputs": [
    {
     "name": "stdout",
     "output_type": "stream",
     "text": [
      "<class 'pandas.core.frame.DataFrame'>\n",
      "RangeIndex: 9 entries, 0 to 8\n",
      "Data columns (total 2 columns):\n",
      " #   Column       Non-Null Count  Dtype \n",
      "---  ------       --------------  ----- \n",
      " 0   category_id  9 non-null      object\n",
      " 1   category     9 non-null      object\n",
      "dtypes: object(2)\n",
      "memory usage: 276.0+ bytes\n"
     ]
    }
   ],
   "source": [
    "category_df = pd.read_csv('Resources/category.csv')\n",
    "category_df.info()"
   ],
   "metadata": {
    "collapsed": false,
    "ExecuteTime": {
     "end_time": "2023-11-10T21:49:58.935888Z",
     "start_time": "2023-11-10T21:49:58.923032Z"
    }
   },
   "id": "558a1772470416f7"
  },
  {
   "cell_type": "code",
   "execution_count": 5,
   "outputs": [
    {
     "name": "stdout",
     "output_type": "stream",
     "text": [
      "<class 'pandas.core.frame.DataFrame'>\n",
      "RangeIndex: 24 entries, 0 to 23\n",
      "Data columns (total 2 columns):\n",
      " #   Column          Non-Null Count  Dtype \n",
      "---  ------          --------------  ----- \n",
      " 0   subcategory_id  24 non-null     object\n",
      " 1   subcategory     24 non-null     object\n",
      "dtypes: object(2)\n",
      "memory usage: 516.0+ bytes\n"
     ]
    }
   ],
   "source": [
    "subcategory_df = pd.read_csv('Resources/subcategory.csv')\n",
    "subcategory_df.info()"
   ],
   "metadata": {
    "collapsed": false,
    "ExecuteTime": {
     "end_time": "2023-11-10T21:49:58.991003Z",
     "start_time": "2023-11-10T21:49:58.928091Z"
    }
   },
   "id": "a1e0c2f1d53a95eb"
  },
  {
   "cell_type": "code",
   "execution_count": 5,
   "outputs": [],
   "source": [],
   "metadata": {
    "collapsed": false,
    "ExecuteTime": {
     "end_time": "2023-11-10T21:49:58.992011Z",
     "start_time": "2023-11-10T21:49:58.932200Z"
    }
   },
   "id": "a7a0e35cbab1e294"
  }
 ],
 "metadata": {
  "kernelspec": {
   "display_name": "Python 3",
   "language": "python",
   "name": "python3"
  },
  "language_info": {
   "codemirror_mode": {
    "name": "ipython",
    "version": 2
   },
   "file_extension": ".py",
   "mimetype": "text/x-python",
   "name": "python",
   "nbconvert_exporter": "python",
   "pygments_lexer": "ipython2",
   "version": "2.7.6"
  }
 },
 "nbformat": 4,
 "nbformat_minor": 5
}
